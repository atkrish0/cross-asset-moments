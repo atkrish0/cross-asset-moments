{
 "cells": [
  {
   "cell_type": "markdown",
   "metadata": {},
   "source": [
    "### SKEWNESS STRAT"
   ]
  },
  {
   "cell_type": "code",
   "execution_count": 2,
   "metadata": {},
   "outputs": [],
   "source": [
    "#import alpaca_trade_api as tradeapi\n",
    "from alpaca.data import StockHistoricalDataClient, TimeFrame\n",
    "\n",
    "import pandas as pd\n",
    "import numpy as np\n",
    "import datetime as dt\n",
    "from matplotlib import pyplot as plt\n",
    "from scipy.stats import norm\n",
    "import statsmodels.api as sm"
   ]
  },
  {
   "cell_type": "code",
   "execution_count": 3,
   "metadata": {},
   "outputs": [],
   "source": [
    "# Parse the date from the Alpaca API format\n",
    "def parse_date(t):\n",
    "    return pd.to_datetime(t).date()"
   ]
  },
  {
   "cell_type": "code",
   "execution_count": 4,
   "metadata": {},
   "outputs": [],
   "source": [
    "# Clean the DataFrame and calculate necessary fields\n",
    "def clean(df, ticker):\n",
    "    df['Date'] = df['t'].apply(parse_date)\n",
    "    df['Ticker'] = ticker\n",
    "    df['NextOpen'] = df['o'].shift(-1)\n",
    "    df['LogReturn'] = np.log(df['c'] / df['c'].shift(1))\n",
    "    df = df[['Date', 'Ticker', 'c', 'o', 'NextOpen', 'LogReturn']]\n",
    "    return df"
   ]
  },
  {
   "cell_type": "code",
   "execution_count": null,
   "metadata": {},
   "outputs": [],
   "source": [
    "# Load historical data from Alpaca and clean it\n",
    "def load(etf):\n",
    "    api_key = \"YOUR_API_KEY\"\n",
    "    secret_key = \"YOUR_SECRET_KEY\"\n",
    "    client = StockHistoricalDataClient(api_key, secret_key)\n",
    "    \n",
    "    end_date = dt.datetime.now()\n",
    "    start_date = end_date - dt.timedelta(days=3650)  # 10 years\n",
    "    \n",
    "    bars = client.get_stock_bars(etf, TimeFrame.Day, start=start_date, end=end_date, adjustment='all').df\n",
    "    df = bars.reset_index()\n",
    "    return clean(df, etf)"
   ]
  },
  {
   "cell_type": "code",
   "execution_count": null,
   "metadata": {},
   "outputs": [],
   "source": [
    "# Example usage:\n",
    "# df = load('SPY')\n",
    "# print(df.head())"
   ]
  }
 ],
 "metadata": {
  "kernelspec": {
   "display_name": "base",
   "language": "python",
   "name": "python3"
  },
  "language_info": {
   "codemirror_mode": {
    "name": "ipython",
    "version": 3
   },
   "file_extension": ".py",
   "mimetype": "text/x-python",
   "name": "python",
   "nbconvert_exporter": "python",
   "pygments_lexer": "ipython3",
   "version": "3.11.5"
  }
 },
 "nbformat": 4,
 "nbformat_minor": 2
}
