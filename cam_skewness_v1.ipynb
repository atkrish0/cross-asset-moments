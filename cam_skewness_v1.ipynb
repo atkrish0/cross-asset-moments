{
 "cells": [
  {
   "cell_type": "markdown",
   "metadata": {},
   "source": [
    "### SKEWNESS STRAT"
   ]
  },
  {
   "cell_type": "code",
   "execution_count": 1,
   "metadata": {},
   "outputs": [
    {
     "ename": "ModuleNotFoundError",
     "evalue": "No module named 'alpaca_trade_api'",
     "output_type": "error",
     "traceback": [
      "\u001b[0;31m---------------------------------------------------------------------------\u001b[0m",
      "\u001b[0;31mModuleNotFoundError\u001b[0m                       Traceback (most recent call last)",
      "Cell \u001b[0;32mIn[1], line 1\u001b[0m\n\u001b[0;32m----> 1\u001b[0m \u001b[38;5;28;01mimport\u001b[39;00m \u001b[38;5;21;01malpaca_trade_api\u001b[39;00m \u001b[38;5;28;01mas\u001b[39;00m \u001b[38;5;21;01mtradeapi\u001b[39;00m\n\u001b[1;32m      2\u001b[0m \u001b[38;5;28;01mimport\u001b[39;00m \u001b[38;5;21;01mpandas\u001b[39;00m \u001b[38;5;28;01mas\u001b[39;00m \u001b[38;5;21;01mpd\u001b[39;00m\n\u001b[1;32m      3\u001b[0m \u001b[38;5;28;01mimport\u001b[39;00m \u001b[38;5;21;01mnumpy\u001b[39;00m \u001b[38;5;28;01mas\u001b[39;00m \u001b[38;5;21;01mnp\u001b[39;00m\n",
      "\u001b[0;31mModuleNotFoundError\u001b[0m: No module named 'alpaca_trade_api'"
     ]
    }
   ],
   "source": [
    "import alpaca_trade_api as tradeapi\n",
    "import pandas as pd\n",
    "import numpy as np\n",
    "import datetime as dt\n",
    "from matplotlib import pyplot as plt\n",
    "from scipy.stats import norm\n",
    "import statsmodels.api as sm"
   ]
  },
  {
   "cell_type": "code",
   "execution_count": null,
   "metadata": {},
   "outputs": [],
   "source": [
    "# Parse the date from the Alpaca API format\n",
    "def parse_date(t):\n",
    "    return pd.to_datetime(t).date()"
   ]
  },
  {
   "cell_type": "code",
   "execution_count": null,
   "metadata": {},
   "outputs": [],
   "source": [
    "# Clean the DataFrame and calculate necessary fields\n",
    "def clean(df, ticker):\n",
    "    df['Date'] = df['t'].apply(parse_date)\n",
    "    df['Ticker'] = ticker\n",
    "    df['NextOpen'] = df['o'].shift(-1)\n",
    "    df['LogReturn'] = np.log(df['c'] / df['c'].shift(1))\n",
    "    df = df[['Date', 'Ticker', 'c', 'o', 'NextOpen', 'LogReturn']]\n",
    "    return df"
   ]
  },
  {
   "cell_type": "code",
   "execution_count": null,
   "metadata": {},
   "outputs": [],
   "source": [
    "# Load historical data from Alpaca and clean it\n",
    "def load(etf):\n",
    "    api = tradeapi.REST()  # Assuming API key is set up in environment variables\n",
    "    end_date = dt.datetime.now()\n",
    "    start_date = end_date - dt.timedelta(days=3650)  # 10 years\n",
    "    bars = api.get_barset(etf, 'day', start=start_date.isoformat(), end=end_date.isoformat(), limit=10000, adjustment='all')\n",
    "    df = pd.DataFrame({\n",
    "        't': [bar.t for bar in bars[etf]],\n",
    "        'c': [bar.c for bar in bars[etf]],\n",
    "        'o': [bar.o for bar in bars[etf]]\n",
    "    })\n",
    "    return clean(df, etf)"
   ]
  },
  {
   "cell_type": "code",
   "execution_count": null,
   "metadata": {},
   "outputs": [],
   "source": [
    "# Example usage:\n",
    "# df = load('SPY')\n",
    "# print(df.head())"
   ]
  }
 ],
 "metadata": {
  "kernelspec": {
   "display_name": "base",
   "language": "python",
   "name": "python3"
  },
  "language_info": {
   "codemirror_mode": {
    "name": "ipython",
    "version": 3
   },
   "file_extension": ".py",
   "mimetype": "text/x-python",
   "name": "python",
   "nbconvert_exporter": "python",
   "pygments_lexer": "ipython3",
   "version": "3.11.5"
  }
 },
 "nbformat": 4,
 "nbformat_minor": 2
}
